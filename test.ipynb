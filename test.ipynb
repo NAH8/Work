
Get the Data and Setup the Analysis

For this thread we will use a pregenerated data set which is available in the following tar archive.
In [1]:

import os
if os.path.isfile('../data/draco.tar.gz'):
    !tar xzf ../data/draco.tar.gz
else:
    !curl -OL https://raw.githubusercontent.com/fermiPy/fermipy-extras/master/data/draco.tar.gz
    !tar xzf draco.tar.gz

We will begin by looking at the contents of the configuration file. The configuration is similar to our PG1553 example except for the addition of a 'draco' component in the ROI model. We also set the ROI coordinates explicitly since the ROI center isn't at the position of a 3FGL source.
